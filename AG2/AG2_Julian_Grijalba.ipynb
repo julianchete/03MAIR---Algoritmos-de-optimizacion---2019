{
  "nbformat": 4,
  "nbformat_minor": 0,
  "metadata": {
    "colab": {
      "name": "AG2-Julian_Grijalba.ipynb",
      "version": "0.3.2",
      "provenance": [],
      "collapsed_sections": [],
      "include_colab_link": true
    },
    "kernelspec": {
      "name": "python3",
      "display_name": "Python 3"
    }
  },
  "cells": [
    {
      "cell_type": "markdown",
      "metadata": {
        "id": "view-in-github",
        "colab_type": "text"
      },
      "source": [
        "<a href=\"https://colab.research.google.com/github/julianchete/03MAIR---Algoritmos-de-optimizacion---2019/blob/master/AG2/AG2_Julian_Grijalba.ipynb\" target=\"_parent\"><img src=\"https://colab.research.google.com/assets/colab-badge.svg\" alt=\"Open In Colab\"/></a>"
      ]
    },
    {
      "metadata": {
        "id": "LY4f0V7xUffQ",
        "colab_type": "text"
      },
      "cell_type": "markdown",
      "source": [
        "###Julian Grijalba : AG2 <br>\n",
        "####Actividad Guiada 2   <br>\n",
        "[Acceso a la Actividad Guiada 2: AG2](https://github.com/julianchete/03MAIR---Algoritmos-de-optimizacion---2019/tree/master/AG2)\n"
      ]
    },
    {
      "metadata": {
        "id": "_yjeJB-dUsQi",
        "colab_type": "text"
      },
      "cell_type": "markdown",
      "source": [
        "La actividad la desarrollaré en varios pasos, los cuales son: \n",
        "1. Enfoque 1D solución bruta y dividir y conquinstar\n",
        "2. Enfoque 2D solución bruta y dividir y conquistar\n",
        "3. Evaluación de alernativas mas rapidas que las anterios\n",
        "4. Solución en N dimensiones como parte de la investigación realizada. "
      ]
    },
    {
      "metadata": {
        "id": "mY1Y_pmzUoOt",
        "colab_type": "text"
      },
      "cell_type": "markdown",
      "source": [
        "## Librerias y variables globales"
      ]
    },
    {
      "metadata": {
        "id": "KWAS51mDP5-I",
        "colab_type": "code",
        "colab": {}
      },
      "cell_type": "code",
      "source": [
        "# Importa las librerias requeridas y creo las listas \n",
        "import itertools as it\n",
        "import math\n",
        "import numpy as np\n",
        "from scipy.spatial.distance import cdist\n",
        "from pylab import plot,show\n",
        "import random\n",
        "\n",
        "# Se definen las listas\n",
        "lista_1D = [random.randrange(500,10000) for _ in range(1000) ]\n",
        "lista_2D = [(random.randrange(1,10000),random.randrange(1,10000)) for _ in range(1000) ]\n",
        "lista_3D = [(random.randrange(1,10000),random.randrange(1,10000),random.randrange(1,10000)) for _ in range(1000) ]"
      ],
      "execution_count": 0,
      "outputs": []
    },
    {
      "metadata": {
        "id": "2hCRT1L2WAxz",
        "colab_type": "code",
        "outputId": "b25d9740-6d97-4c5b-b4fd-278735cf457b",
        "colab": {
          "base_uri": "https://localhost:8080/",
          "height": 51
        }
      },
      "cell_type": "code",
      "source": [
        "#Primera lista\n",
        "print (\"Primera lista - valores aleatorios: \" + str(random.sample(lista_1D,5)))\n",
        "#Segunda lista\n",
        "print (\"Segunda lista - valores aleatorios: \" + str(random.sample(lista_2D,5)))\n"
      ],
      "execution_count": 2,
      "outputs": [
        {
          "output_type": "stream",
          "text": [
            "Primera lista - valores aleatorios: [6035, 1909, 2868, 3631, 5309]\n",
            "Segunda lista - valores aleatorios: [(4764, 4753), (7877, 6113), (749, 677), (5012, 1158), (1448, 7002)]\n"
          ],
          "name": "stdout"
        }
      ]
    },
    {
      "metadata": {
        "id": "9uLShoXXZOu9",
        "colab_type": "text"
      },
      "cell_type": "markdown",
      "source": [
        "## funciones globales\n"
      ]
    },
    {
      "metadata": {
        "id": "AmRZx4jkZNqt",
        "colab_type": "code",
        "outputId": "dfcdb78f-3568-4854-f42f-e4ff5667e831",
        "colab": {
          "base_uri": "https://localhost:8080/",
          "height": 51
        }
      },
      "cell_type": "code",
      "source": [
        "# Función que realiza la medición entre los puntos \n",
        "def distancia(A,B):\n",
        "  if type(A) is int or type(A) is float:\n",
        "    return  abs(B-A)\n",
        "  else:\n",
        "    return math.sqrt(sum([   (A[i]-B[i])**2 for i in range(len(A))   ]))\n",
        "  \n",
        "print(\"Prueba - distancia en 1D: \" + str(distancia(1,3)))\n",
        "print(\"Prueba - distancia en 2D: \" + str(distancia((1,3), (2,5))))"
      ],
      "execution_count": 3,
      "outputs": [
        {
          "output_type": "stream",
          "text": [
            "Prueba - distancia en 1D: 2\n",
            "Prueba - distancia en 2D: 2.23606797749979\n"
          ],
          "name": "stdout"
        }
      ]
    },
    {
      "metadata": {
        "id": "CuG6cabEZVq0",
        "colab_type": "code",
        "colab": {}
      },
      "cell_type": "code",
      "source": [
        "#Calculo de Tiempos(Isabel Vazques). (Pte. analizar aportación de Miguel Angel Soto)\n",
        "from time import time\n",
        "def calcular_tiempo(f):\n",
        "   \n",
        "    def wrapper(*args, **kwargs):        \n",
        "        inicio = time()       \n",
        "        resultado = f(*args, **kwargs)       \n",
        "        tiempo = float(time() - inicio)     \n",
        "        print(\"\\r\\n Tiempo de ejecución para algoritmo: \"+\"{0:.25f}\".format(tiempo))\n",
        "        return resultado\n",
        "    \n",
        "    return wrapper"
      ],
      "execution_count": 0,
      "outputs": []
    },
    {
      "metadata": {
        "id": "htpUO5EKGvt2",
        "colab_type": "code",
        "colab": {}
      },
      "cell_type": "code",
      "source": [
        "  def validador_basico (lista_va_1D):\n",
        "    cantidad_elementos=len(lista_va_1D)\n",
        "    # realizo dos comprobaciones basicas, si tiene 1 elemento y 2 elementos\n",
        "    if(cantidad_elementos == 1):\n",
        "      print(\"Se tiene un solo valor, por ello su distancia es 0\")\n",
        "      return cantidad_elementos\n",
        "\n",
        "    if (cantidad_elementos == 2):\n",
        "      print(\"Solo hay dos valores, el \" + str(lista_va_1D[0]) +\" y \"+str(lista_va_1D[1])+\" con una  distancia de: \" + str(abs(lista_va_1D[0]-lista_va_1D[1])))\n",
        "      return cantidad_elementos\n",
        "    else:\n",
        "      return cantidad_elementos\n",
        "    \n"
      ],
      "execution_count": 0,
      "outputs": []
    },
    {
      "metadata": {
        "id": "djNU3u59F039",
        "colab_type": "text"
      },
      "cell_type": "markdown",
      "source": [
        "# 1. Análisis de algoritmos en 1D"
      ]
    },
    {
      "metadata": {
        "id": "HINfugr5VHuc",
        "colab_type": "code",
        "colab": {}
      },
      "cell_type": "code",
      "source": [
        "# Primer intento: Fuerza bruta 1D  \n",
        "# Calcular la complejidad. Su complejidad es  O(n²) ya que hace doble iteración. Se podria mejorar con un algoritmo que divida el problema en partes mas pequeñas.\n",
        "\n",
        "def fuerza_bruta_1D (lista_datos):\n",
        "  # Realizo la validación basica , si tiene uno o dos elementos\n",
        "  cantidad_elementos=validador_basico(lista_datos)\n",
        "  \n",
        "  if(cantidad_elementos > 2 ):\n",
        "    # Realizo al fuerza bruta para el recorrido de la lista \n",
        "    distancia_minima=99999999999999999\n",
        "    valor_1=-1\n",
        "    valor_2=-1\n",
        "    for i in range(cantidad_elementos):\n",
        "          for j in range(i + 1, cantidad_elementos):\n",
        "               distancia_actual= distancia(lista_datos[i],lista_datos[j])\n",
        "               if distancia_actual < distancia_minima:  \n",
        "                      distancia_minima = distancia_actual\n",
        "                      valor_1=lista_datos[i]\n",
        "                      valor_2=lista_datos[j]\n",
        "\n",
        "    print(\"La distancia minima es: \"+str(distancia_minima)+\" entre los valores \"+str(valor_1)+\" y \"+str(valor_2))\n",
        "    return\n"
      ],
      "execution_count": 0,
      "outputs": []
    },
    {
      "metadata": {
        "id": "Evx73iCOZr3d",
        "colab_type": "code",
        "outputId": "c53cb06c-cc1b-4506-db4d-c39ac6ae3296",
        "colab": {
          "base_uri": "https://localhost:8080/",
          "height": 68
        }
      },
      "cell_type": "code",
      "source": [
        "# prueba del algoritmo de fuerza brutal\n",
        "fuerza_bruta_1D(random.sample(lista_1D,1))\n",
        "# prueba del algoritmo de fuerza brutal\n",
        "fuerza_bruta_1D(random.sample(lista_1D,2))\n",
        "# prueba del algoritmo con todos los elementos \n",
        "fuerza_bruta_1D(random.sample(lista_1D,98))"
      ],
      "execution_count": 7,
      "outputs": [
        {
          "output_type": "stream",
          "text": [
            "Se tiene un solo valor, por ello su distancia es 0\n",
            "Solo hay dos valores, el 2159 y 7881 con una  distancia de: 5722\n",
            "La distancia minima es: 2 entre los valores 673 y 671\n"
          ],
          "name": "stdout"
        }
      ]
    },
    {
      "metadata": {
        "id": "XwwQgYTCgYpG",
        "colab_type": "code",
        "colab": {}
      },
      "cell_type": "code",
      "source": [
        "# Segundo intento. Aplicar Divide y Vencerás\n",
        "# Calcular la complejidad. ¿Se puede mejorar?  O(n (Logn)^) .  \n",
        "def dividir_vencer_1D(lista_datos):\n",
        "\n",
        "  # Realizo la validación basica , si tiene uno o dos elementos\n",
        "  cantidad_elementos=len(lista_datos)\n",
        "  #incluyo la optimización definida por Raul Reyero en : https://github.com/raul27868/03MAIR---Algoritmos-de-Optimizacion---2019/blob/master/AG2/Raul_ReyeroAG2.ipynb\n",
        "  if(cantidad_elementos <10):\n",
        "    return fuerza_bruta_1D(lista_datos)\n",
        "  \n",
        "  def ordenar_1D(s):\n",
        "      return [u for (u, i) in sorted(enumerate(s), key = lambda p: p[1])]\n",
        "  \n",
        "  lista_ordenada = ordenar_1D(lista_datos)\n",
        "      # definido \n",
        "  def busqueda_pares(i, j):\n",
        "      if i >= j:\n",
        "            return None\n",
        "      elif i + 1 == j:\n",
        "            return (lista_ordenada[i], lista_ordenada[j])\n",
        "      else:\n",
        "            k = (i + j) // 2\n",
        "            lista_izq = busqueda_pares(i, k)\n",
        "            lista_der = busqueda_pares(k, j)\n",
        "            (i_izq, j_izq) = lista_izq\n",
        "            (i_der, j_der) = lista_der\n",
        "\n",
        "            if lista_izq is None:\n",
        "                (i_min, j_min) = lista_der\n",
        "            elif lista_der is None:\n",
        "                (i_min, j_min) = lista_izq\n",
        "            else:\n",
        "                d_izq= distancia(lista_datos[i_izq], lista_datos[j_izq])\n",
        "                d_der = distancia(lista_datos[i_der], lista_datos[j_der])\n",
        "                if d_izq < d_der:\n",
        "                    (i_min, j_min) = lista_izq\n",
        "                else:\n",
        "                    (i_min, j_min) = lista_der\n",
        "            return (i_min, j_min)\n",
        "  return busqueda_pares(0, len(lista_datos) - 1)\n",
        "  print(\"La distancia minima es: \"+str(j_min-i_min)+\" entre los valores \"+str(i_min)+\" y \"+str(j_min))\n",
        "  return"
      ],
      "execution_count": 0,
      "outputs": []
    },
    {
      "metadata": {
        "id": "8rJ_T3Vg7urD",
        "colab_type": "code",
        "outputId": "9788a46d-0695-4bb5-f32a-c74606d0dc57",
        "colab": {
          "base_uri": "https://localhost:8080/",
          "height": 68
        }
      },
      "cell_type": "code",
      "source": [
        "# prueba del algoritmo de dividir y conquistar \n",
        "dividir_vencer_1D(random.sample(lista_1D,1))\n",
        "# prueba del algoritmo de de dividir y conquistar \n",
        "dividir_vencer_1D(random.sample(lista_1D,2))\n",
        "# prueba del algoritmo con todos los elementos \n",
        "valores = dividir_vencer_1D(lista_1D)\n",
        "print(\"La distancia minima es: \"+str(abs(valores[0]-valores[1]))+\" entre los valores \"+str(valores[0])+\" y \"+str(valores[1]))\n"
      ],
      "execution_count": 9,
      "outputs": [
        {
          "output_type": "stream",
          "text": [
            "Se tiene un solo valor, por ello su distancia es 0\n",
            "Solo hay dos valores, el 8534 y 5584 con una  distancia de: 2950\n",
            "La distancia minima es: 175 entre los valores 263 y 438\n"
          ],
          "name": "stdout"
        }
      ]
    },
    {
      "metadata": {
        "id": "PxfJ0VC1F-k-",
        "colab_type": "text"
      },
      "cell_type": "markdown",
      "source": [
        "# 2. Análisis de algoritmos en 2D"
      ]
    },
    {
      "metadata": {
        "id": "CO4vX61bZo6t",
        "colab_type": "code",
        "colab": {}
      },
      "cell_type": "code",
      "source": [
        "# se cambia el enfoque del calculo de la distancia debido a que se tienen dos dimensiones\n",
        "\n",
        "# Calculo fuerza bruta en 2D\n",
        "def fuerza_bruta_2D(lista_datos):\n",
        "  cantidad_elementos = len(lista_datos)\n",
        "  \n",
        "  #verifico que se tenga al menos dos valores\n",
        "  if cantidad_elementos == 1:\n",
        "    print(\"Se tiene un solo valor, por ello su distancia es 0\")\n",
        "    return \n",
        "  \n",
        "  # Defino los valores iniciales\n",
        "  mi = distancia(lista_datos[0], lista_datos[1])\n",
        "  tupla1 = lista_datos[0]\n",
        "  tupla2 = lista_datos[1]\n",
        " \n",
        "  if cantidad_elementos == 2:\n",
        "    print(\"Solo hay dos tuplas, la \" + str(tupla1) +\" y \"+str(tupla2)+\" con una  distancia de: \" + str(mi))\n",
        "    return tupla1, tupla2, mi\n",
        "  \n",
        "  distancia_minima=99999999999999999\n",
        "  # si tiene mas de dos valores se realiza el ciclo\n",
        "  for i in range(cantidad_elementos):\n",
        "    for j in range(i + 1, cantidad_elementos-1):\n",
        "      if i != 0 and j != 1:\n",
        "          distancia_actual = distancia(lista_datos[i], lista_datos[j])\n",
        "          # Actualizo los valores \n",
        "          if distancia_actual < distancia_minima:  \n",
        "              distancia_minima = distancia_actual \n",
        "              tupla1, tupla2 = lista_datos[i], lista_datos[j]\n",
        "  print(\"La distancia minima es: \"+str(distancia_minima)+\" entre las tuplas \"+ str(tupla1) +\" y \"+  str(tupla2) )\n",
        "  #return tupla1, tupla2, mi\n",
        " \n",
        "\n"
      ],
      "execution_count": 0,
      "outputs": []
    },
    {
      "metadata": {
        "id": "a76_0jmlQzeP",
        "colab_type": "code",
        "outputId": "e5cef6ef-be18-456e-c555-3dad98e91d9f",
        "colab": {
          "base_uri": "https://localhost:8080/",
          "height": 68
        }
      },
      "cell_type": "code",
      "source": [
        "# prueba del algoritmo de dividir y conquistar \n",
        "fuerza_bruta_2D(random.sample(lista_2D,1))\n",
        "# prueba del algoritmo de de dividir y conquistar \n",
        "fuerza_bruta_2D(random.sample(lista_2D,2))\n",
        "# prueba del algoritmo con todos los elementos \n",
        "fuerza_bruta_2D(lista_2D)"
      ],
      "execution_count": 11,
      "outputs": [
        {
          "output_type": "stream",
          "text": [
            "Se tiene un solo valor, por ello su distancia es 0\n",
            "Solo hay dos tuplas, la (7448, 4887) y (8361, 6470) con una  distancia de: 1827.4183976309312\n",
            "La distancia minima es: 7.810249675906654 entre las tuplas (5935, 7179) y (5940, 7185)\n"
          ],
          "name": "stdout"
        }
      ]
    },
    {
      "metadata": {
        "id": "_zX4oBW_liYa",
        "colab_type": "code",
        "colab": {}
      },
      "cell_type": "code",
      "source": [
        "# Se obtiene la información de Github Raul Reyero : \n",
        "#https://github.com/raul27868/03MAIR---Algoritmos-de-Optimizacion---2019/blob/master/AG2/Raul_ReyeroAG2.ipynb\n",
        "\n",
        "#Fuerza Bruta\n",
        "\n",
        "def distancia_fuerza_bruta(L):\n",
        "  mejor_distancia = 100000e10\n",
        "  \n",
        "  A,B = (),()\n",
        "  \n",
        "  for i in range(len(L)):\n",
        "    for j in range(i+1, len(L)):\n",
        "      D = distancia(L[i],L[j])\n",
        "      if D < mejor_distancia:\n",
        "                A,B=L[i],L[j]\n",
        "                mejor_distancia = D\n",
        "  return [A,B] \n",
        "\n",
        " \n",
        "def distancia_divide_y_venceras(L):\n",
        "  #Si hay pocos por Fuerza Bruta\n",
        "  if len(L) <10: \n",
        "    return  distancia_fuerza_bruta(L)\n",
        "  \n",
        "  \n",
        "  #Dividir en listas grandes\n",
        "  #pivite =  sum([L[i][0]for i in range(len(L))]) / len(L)\n",
        "  \n",
        "  \n",
        "  LISTA_IZQ = sorted(L, key=lambda x: x[0])[:len(L)//2]\n",
        "  LISTA_DER = sorted(L, key=lambda x: x[0])[len(L)//2:]\n",
        "  \n",
        "  PUNTOS_LISTA_IZQ = distancia_divide_y_venceras(LISTA_IZQ)\n",
        "  PUNTOS_LISTA_DER = distancia_divide_y_venceras(LISTA_DER)\n",
        "  \n",
        "  return distancia_fuerza_bruta(PUNTOS_LISTA_IZQ + PUNTOS_LISTA_DER)\n",
        "  \n"
      ],
      "execution_count": 0,
      "outputs": []
    },
    {
      "metadata": {
        "id": "OzBqtOX4mIxb",
        "colab_type": "code",
        "outputId": "54ee5561-7546-4c58-a9a1-9808ccf57b54",
        "colab": {
          "base_uri": "https://localhost:8080/",
          "height": 68
        }
      },
      "cell_type": "code",
      "source": [
        "@calcular_tiempo  \n",
        "def LANZA(L):\n",
        "  return distancia_divide_y_venceras(L)\n",
        "  \n",
        "SOL = LANZA(lista_2D[:1000])\n",
        "\n",
        "print(SOL)"
      ],
      "execution_count": 13,
      "outputs": [
        {
          "output_type": "stream",
          "text": [
            "\r\n",
            " Tiempo de ejecución para algoritmo: 0.0180265903472900390625000\n",
            "[(5935, 7179), (5940, 7185)]\n"
          ],
          "name": "stdout"
        }
      ]
    },
    {
      "metadata": {
        "id": "kjcNRAy5imr9",
        "colab_type": "code",
        "outputId": "364b19c0-6614-4c7e-8bfa-bf5f47774ab1",
        "colab": {
          "base_uri": "https://localhost:8080/",
          "height": 68
        }
      },
      "cell_type": "code",
      "source": [
        "\n",
        "# prueba del algoritmo de dividir y conquistar \n",
        "fuerza_bruta_2D(random.sample(lista_2D,1))\n",
        "# prueba del algoritmo de de dividir y conquistar \n",
        "fuerza_bruta_2D(random.sample(lista_2D,2))\n"
      ],
      "execution_count": 22,
      "outputs": [
        {
          "output_type": "stream",
          "text": [
            "Se tiene un solo valor, por ello su distancia es 0\n",
            "Solo hay dos tuplas, la (8831, 2974) y (625, 185) con una  distancia de: 8667.003922925154\n"
          ],
          "name": "stdout"
        },
        {
          "output_type": "execute_result",
          "data": {
            "text/plain": [
              "((8831, 2974), (625, 185), 8667.003922925154)"
            ]
          },
          "metadata": {
            "tags": []
          },
          "execution_count": 22
        }
      ]
    },
    {
      "metadata": {
        "id": "pq2HBNf4nVdf",
        "colab_type": "text"
      },
      "cell_type": "markdown",
      "source": [
        "#3. Análisis de algoritmos en ND"
      ]
    },
    {
      "metadata": {
        "id": "oe9qJufQcPxF",
        "colab_type": "code",
        "colab": {
          "base_uri": "https://localhost:8080/",
          "height": 34
        },
        "outputId": "109d476e-5009-46ab-cb7b-ff4285d6272c"
      },
      "cell_type": "code",
      "source": [
        "# Se incluye libreria que permite medir la distancia multidimensional \n",
        "from scipy.spatial.distance import cdist\n",
        "\n",
        "\n",
        "# Se define el arreglos en 3D y se identifican los datos más relevantes\n",
        "datos = np.asarray(lista_3D)\n",
        "distancia = cdist(datos, datos)\n",
        "tamanho = datos.shape[0]\n",
        "# Se utilizan las funciones\n",
        "indices = np.tril_indices(tamanho, k=-1) \n",
        "# Distancia entre puntos\n",
        "dist_final = distancia[indices]\n",
        "# Distancia Minima\n",
        "distancia_minima = dist_final.min()\n",
        "print(\"La distancia minima es: \"+str(distancia_minima) )\n"
      ],
      "execution_count": 29,
      "outputs": [
        {
          "output_type": "stream",
          "text": [
            "La distancia minima es: 83.52843827104634\n"
          ],
          "name": "stdout"
        }
      ]
    }
  ]
}