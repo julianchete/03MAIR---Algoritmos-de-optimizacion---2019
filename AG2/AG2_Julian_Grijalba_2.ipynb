{
  "nbformat": 4,
  "nbformat_minor": 0,
  "metadata": {
    "colab": {
      "name": "AG2-Julian_Grijalba.ipynb",
      "version": "0.3.2",
      "provenance": [],
      "collapsed_sections": [],
      "include_colab_link": true
    },
    "kernelspec": {
      "name": "python3",
      "display_name": "Python 3"
    }
  },
  "cells": [
    {
      "cell_type": "markdown",
      "metadata": {
        "id": "view-in-github",
        "colab_type": "text"
      },
      "source": [
        "<a href=\"https://colab.research.google.com/github/julianchete/03MAIR---Algoritmos-de-optimizacion---2019/blob/master/AG2/AG2_Julian_Grijalba_2.ipynb\" target=\"_parent\"><img src=\"https://colab.research.google.com/assets/colab-badge.svg\" alt=\"Open In Colab\"/></a>"
      ]
    },
    {
      "metadata": {
        "id": "LY4f0V7xUffQ",
        "colab_type": "text"
      },
      "cell_type": "markdown",
      "source": [
        "###Julian Grijalba : AG2 <br>\n",
        "####Actividad Guiada 2   <br>\n",
        "[Acceso a la Actividad Guiada 2: AG2](https://github.com/julianchete/03MAIR---Algoritmos-de-optimizacion---2019/tree/master/AG2)\n"
      ]
    },
    {
      "metadata": {
        "id": "_yjeJB-dUsQi",
        "colab_type": "text"
      },
      "cell_type": "markdown",
      "source": [
        "La actividad la desarrollaré en varios pasos, los cuales son: \n",
        "1. Enfoque 1D solución bruta y dividir y conquinstar\n",
        "2. Enfoque 2D solución bruta y dividir y conquistar\n",
        "3. Evaluación de alernativas mas rapidas que las anterios\n",
        "4. Solución en N dimensiones como parte de la investigación realizada. "
      ]
    },
    {
      "metadata": {
        "id": "mY1Y_pmzUoOt",
        "colab_type": "text"
      },
      "cell_type": "markdown",
      "source": [
        "## Librerias y variables globales"
      ]
    },
    {
      "metadata": {
        "id": "KWAS51mDP5-I",
        "colab_type": "code",
        "colab": {}
      },
      "cell_type": "code",
      "source": [
        "# Importa las librerias requeridas y creo las listas \n",
        "import itertools as it\n",
        "import math\n",
        "import numpy as np\n",
        "from scipy.spatial.distance import cdist\n",
        "from pylab import plot,show\n",
        "import random\n",
        "\n",
        "# Se definen las listas\n",
        "lista_1D = [random.randrange(500,10000) for _ in range(1000) ]\n",
        "lista_2D = [(random.randrange(1,10000),random.randrange(1,10000)) for _ in range(1000) ]\n",
        "lista_3D = [(random.randrange(1,10000),random.randrange(1,10000),random.randrange(1,10000)) for _ in range(1000) ]"
      ],
      "execution_count": 0,
      "outputs": []
    },
    {
      "metadata": {
        "id": "2hCRT1L2WAxz",
        "colab_type": "code",
        "outputId": "8b9266dc-beb4-4c3b-d21e-c945508b1a34",
        "colab": {
          "base_uri": "https://localhost:8080/",
          "height": 54
        }
      },
      "cell_type": "code",
      "source": [
        "#Primera lista\n",
        "print (\"Primera lista - valores aleatorios: \" + str(random.sample(lista_1D,5)))\n",
        "#Segunda lista\n",
        "print (\"Segunda lista - valores aleatorios: \" + str(random.sample(lista_2D,5)))\n"
      ],
      "execution_count": 0,
      "outputs": [
        {
          "output_type": "stream",
          "text": [
            "Primera lista - valores aleatorios: [5928, 8961, 6941, 7287, 1447]\n",
            "Segunda lista - valores aleatorios: [(6655, 7392), (6323, 5885), (4022, 5407), (1575, 2038), (9848, 3339)]\n"
          ],
          "name": "stdout"
        }
      ]
    },
    {
      "metadata": {
        "id": "9uLShoXXZOu9",
        "colab_type": "text"
      },
      "cell_type": "markdown",
      "source": [
        "## funciones globales\n"
      ]
    },
    {
      "metadata": {
        "id": "AmRZx4jkZNqt",
        "colab_type": "code",
        "outputId": "9bfcc89c-0b4c-4127-98e2-bb9af69c50e2",
        "colab": {
          "base_uri": "https://localhost:8080/",
          "height": 54
        }
      },
      "cell_type": "code",
      "source": [
        "# Función que realiza la medición entre los puntos \n",
        "def distancia(A,B):\n",
        "  if type(A) is int or type(A) is float:\n",
        "    return  abs(B-A)\n",
        "  else:\n",
        "    return math.sqrt(sum([   (A[i]-B[i])**2 for i in range(len(A))   ]))\n",
        "  \n",
        "print(\"Prueba - distancia en 1D: \" + str(distancia(1,3)))\n",
        "print(\"Prueba - distancia en 2D: \" + str(distancia((1,3), (2,5))))"
      ],
      "execution_count": 0,
      "outputs": [
        {
          "output_type": "stream",
          "text": [
            "Prueba - distancia en 1D: 2\n",
            "Prueba - distancia en 2D: 2.23606797749979\n"
          ],
          "name": "stdout"
        }
      ]
    },
    {
      "metadata": {
        "id": "CuG6cabEZVq0",
        "colab_type": "code",
        "colab": {}
      },
      "cell_type": "code",
      "source": [
        "#Calculo de Tiempos(Isabel Vazques). (Pte. analizar aportación de Miguel Angel Soto)\n",
        "from time import time\n",
        "def calcular_tiempo(f):\n",
        "   \n",
        "    def wrapper(*args, **kwargs):        \n",
        "        inicio = time()       \n",
        "        resultado = f(*args, **kwargs)       \n",
        "        tiempo = float(time() - inicio)     \n",
        "        print(\"\\r\\n Tiempo de ejecución para algoritmo: \"+\"{0:.25f}\".format(tiempo))\n",
        "        return resultado\n",
        "    \n",
        "    return wrapper"
      ],
      "execution_count": 0,
      "outputs": []
    },
    {
      "metadata": {
        "id": "htpUO5EKGvt2",
        "colab_type": "code",
        "colab": {}
      },
      "cell_type": "code",
      "source": [
        "  def validador_basico (lista_va_1D):\n",
        "    cantidad_elementos=len(lista_va_1D)\n",
        "    # realizo dos comprobaciones basicas, si tiene 1 elemento y 2 elementos\n",
        "    if(cantidad_elementos == 1):\n",
        "      print(\"Se tiene un solo valor, por ello su distancia es 0\")\n",
        "      return cantidad_elementos\n",
        "\n",
        "    if (cantidad_elementos == 2):\n",
        "      print(\"Solo hay dos valores, el \" + str(lista_va_1D[0]) +\" y \"+str(lista_va_1D[1])+\" con una  distancia de: \" + str(abs(lista_va_1D[0]-lista_va_1D[1])))\n",
        "      return cantidad_elementos\n",
        "    else:\n",
        "      return cantidad_elementos\n",
        "    \n"
      ],
      "execution_count": 0,
      "outputs": []
    },
    {
      "metadata": {
        "id": "djNU3u59F039",
        "colab_type": "text"
      },
      "cell_type": "markdown",
      "source": [
        "# 1. Análisis de algoritmos en 1D"
      ]
    },
    {
      "metadata": {
        "id": "HINfugr5VHuc",
        "colab_type": "code",
        "colab": {}
      },
      "cell_type": "code",
      "source": [
        "# Primer intento: Fuerza bruta 1D  \n",
        "# Calcular la complejidad. Su complejidad es  O(n²) ya que hace doble iteración. Se podria mejorar con un algoritmo que divida el problema en partes mas pequeñas.\n",
        "\n",
        "def fuerza_bruta_1D (lista_datos):\n",
        "  # Realizo la validación basica , si tiene uno o dos elementos\n",
        "  cantidad_elementos=validador_basico(lista_datos)\n",
        "  \n",
        "  if(cantidad_elementos > 2 ):\n",
        "    # Realizo al fuerza bruta para el recorrido de la lista \n",
        "    distancia_minima=99999999999999999\n",
        "    valor_1=-1\n",
        "    valor_2=-1\n",
        "    for i in range(cantidad_elementos):\n",
        "          for j in range(i + 1, cantidad_elementos):\n",
        "               distancia_actual= distancia(lista_datos[i],lista_datos[j])\n",
        "               if distancia_actual < distancia_minima:  \n",
        "                      distancia_minima = distancia_actual\n",
        "                      valor_1=lista_datos[i]\n",
        "                      valor_2=lista_datos[j]\n",
        "\n",
        "    print(\"La distancia minima es: \"+str(distancia_minima)+\" entre los valores \"+str(valor_1)+\" y \"+str(valor_2))\n",
        "    return\n"
      ],
      "execution_count": 0,
      "outputs": []
    },
    {
      "metadata": {
        "id": "Evx73iCOZr3d",
        "colab_type": "code",
        "outputId": "3a1f438a-c355-46dc-f42b-bebb55e074af",
        "colab": {
          "base_uri": "https://localhost:8080/",
          "height": 72
        }
      },
      "cell_type": "code",
      "source": [
        "# prueba del algoritmo de fuerza brutal\n",
        "fuerza_bruta_1D(random.sample(lista_1D,1))\n",
        "# prueba del algoritmo de fuerza brutal\n",
        "fuerza_bruta_1D(random.sample(lista_1D,2))\n",
        "# prueba del algoritmo con todos los elementos \n",
        "fuerza_bruta_1D(random.sample(lista_1D,98))"
      ],
      "execution_count": 0,
      "outputs": [
        {
          "output_type": "stream",
          "text": [
            "Se tiene un solo valor, por ello su distancia es 0\n",
            "Solo hay dos valores, el 8038 y 648 con una  distancia de: 7390\n",
            "La distancia minima es: 0 entre los valores 9818 y 9818\n"
          ],
          "name": "stdout"
        }
      ]
    },
    {
      "metadata": {
        "id": "XwwQgYTCgYpG",
        "colab_type": "code",
        "colab": {}
      },
      "cell_type": "code",
      "source": [
        "# Segundo intento. Aplicar Divide y Vencerás\n",
        "# Calcular la complejidad. ¿Se puede mejorar?  O(n (Logn)^) .  \n",
        "def dividir_vencer_1D(lista_datos):\n",
        "\n",
        "  # Realizo la validación basica , si tiene uno o dos elementos\n",
        "  cantidad_elementos=len(lista_datos)\n",
        "  #incluyo la optimización definida por Raul Reyero en : https://github.com/raul27868/03MAIR---Algoritmos-de-Optimizacion---2019/blob/master/AG2/Raul_ReyeroAG2.ipynb\n",
        "  if(cantidad_elementos <10):\n",
        "    return fuerza_bruta_1D(lista_datos)\n",
        "  \n",
        "  def ordenar_1D(s):\n",
        "      return [u for (u, i) in sorted(enumerate(s), key = lambda p: p[1])]\n",
        "  \n",
        "  lista_ordenada = ordenar_1D(lista_datos)\n",
        "      # definido \n",
        "  def busqueda_pares(i, j):\n",
        "      if i >= j:\n",
        "            return None\n",
        "      elif i + 1 == j:\n",
        "            return (lista_ordenada[i], lista_ordenada[j])\n",
        "      else:\n",
        "            k = (i + j) // 2\n",
        "            lista_izq = busqueda_pares(i, k)\n",
        "            lista_der = busqueda_pares(k, j)\n",
        "            (i_izq, j_izq) = lista_izq\n",
        "            (i_der, j_der) = lista_der\n",
        "\n",
        "            if lista_izq is None:\n",
        "                (i_min, j_min) = lista_der\n",
        "            elif lista_der is None:\n",
        "                (i_min, j_min) = lista_izq\n",
        "            else:\n",
        "                d_izq= distancia(lista_datos[i_izq], lista_datos[j_izq])\n",
        "                d_der = distancia(lista_datos[i_der], lista_datos[j_der])\n",
        "                if d_izq < d_der:\n",
        "                    (i_min, j_min) = lista_izq\n",
        "                else:\n",
        "                    (i_min, j_min) = lista_der\n",
        "            return (i_min, j_min)\n",
        "  return busqueda_pares(0, len(lista_datos) - 1)\n",
        "  print(\"La distancia minima es: \"+str(j_min-i_min)+\" entre los valores \"+str(i_min)+\" y \"+str(j_min))\n",
        "  return"
      ],
      "execution_count": 0,
      "outputs": []
    },
    {
      "metadata": {
        "id": "8rJ_T3Vg7urD",
        "colab_type": "code",
        "outputId": "18f29da0-2cc3-448d-cb22-3c9348ed1d2a",
        "colab": {
          "base_uri": "https://localhost:8080/",
          "height": 72
        }
      },
      "cell_type": "code",
      "source": [
        "# prueba del algoritmo de dividir y conquistar \n",
        "dividir_vencer_1D(random.sample(lista_1D,1))\n",
        "# prueba del algoritmo de de dividir y conquistar \n",
        "dividir_vencer_1D(random.sample(lista_1D,2))\n",
        "# prueba del algoritmo con todos los elementos \n",
        "valores = dividir_vencer_1D(lista_1D)\n",
        "print(\"La distancia minima es: \"+str(abs(valores[0]-valores[1]))+\" entre los valores \"+str(valores[0])+\" y \"+str(valores[1]))\n"
      ],
      "execution_count": 0,
      "outputs": [
        {
          "output_type": "stream",
          "text": [
            "Se tiene un solo valor, por ello su distancia es 0\n",
            "Solo hay dos valores, el 8268 y 6699 con una  distancia de: 1569\n",
            "La distancia minima es: 314 entre los valores 340 y 654\n"
          ],
          "name": "stdout"
        }
      ]
    },
    {
      "metadata": {
        "id": "PxfJ0VC1F-k-",
        "colab_type": "text"
      },
      "cell_type": "markdown",
      "source": [
        "# 2. Análisis de algoritmos en 2D"
      ]
    },
    {
      "metadata": {
        "id": "CO4vX61bZo6t",
        "colab_type": "code",
        "colab": {}
      },
      "cell_type": "code",
      "source": [
        "# se cambia el enfoque del calculo de la distancia debido a que se tienen dos dimensiones\n",
        "\n",
        "# Calculo fuerza bruta en 2D\n",
        "def fuerza_bruta_2D(lista_datos):\n",
        "  cantidad_elementos = len(lista_datos)\n",
        "  \n",
        "  #verifico que se tenga al menos dos valores\n",
        "  if cantidad_elementos == 1:\n",
        "    print(\"Se tiene un solo valor, por ello su distancia es 0\")\n",
        "    return \n",
        "  \n",
        "  # Defino los valores iniciales\n",
        "  mi = distancia(lista_datos[0], lista_datos[1])\n",
        "  tupla1 = lista_datos[0]\n",
        "  tupla2 = lista_datos[1]\n",
        " \n",
        "  if cantidad_elementos == 2:\n",
        "    print(\"Solo hay dos tuplas, la \" + str(tupla1) +\" y \"+str(tupla2)+\" con una  distancia de: \" + str(mi))\n",
        "    return tupla1, tupla2, mi\n",
        "  \n",
        "  distancia_minima=99999999999999999\n",
        "  # si tiene mas de dos valores se realiza el ciclo\n",
        "  for i in range(cantidad_elementos):\n",
        "    for j in range(i + 1, cantidad_elementos-1):\n",
        "      if i != 0 and j != 1:\n",
        "          distancia_actual = distancia(lista_datos[i], lista_datos[j])\n",
        "          # Actualizo los valores \n",
        "          if distancia_actual < distancia_minima:  \n",
        "              distancia_minima = distancia_actual \n",
        "              tupla1, tupla2 = lista_datos[i], lista_datos[j]\n",
        "  print(\"La distancia minima es: \"+str(distancia_minima)+\" entre las tuplas \"+ str(tupla1) +\" y \"+  str(tupla2) )\n",
        "  #return tupla1, tupla2, mi\n",
        " \n",
        "\n"
      ],
      "execution_count": 0,
      "outputs": []
    },
    {
      "metadata": {
        "id": "a76_0jmlQzeP",
        "colab_type": "code",
        "outputId": "fc7ddba1-b60e-42f7-9958-f0a8df519587",
        "colab": {
          "base_uri": "https://localhost:8080/",
          "height": 72
        }
      },
      "cell_type": "code",
      "source": [
        "# prueba del algoritmo de dividir y conquistar \n",
        "fuerza_bruta_2D(random.sample(lista_2D,1))\n",
        "# prueba del algoritmo de de dividir y conquistar \n",
        "fuerza_bruta_2D(random.sample(lista_2D,2))\n",
        "# prueba del algoritmo con todos los elementos \n",
        "fuerza_bruta_2D(lista_2D)"
      ],
      "execution_count": 0,
      "outputs": [
        {
          "output_type": "stream",
          "text": [
            "Se tiene un solo valor, por ello su distancia es 0\n",
            "Solo hay dos tuplas, la (9695, 1773) y (489, 45) con una  distancia de: 9366.772122775274\n",
            "La distancia minima es: 9.055385138137417 entre las tuplas (9650, 284) y (9651, 275)\n"
          ],
          "name": "stdout"
        }
      ]
    },
    {
      "metadata": {
        "id": "_zX4oBW_liYa",
        "colab_type": "code",
        "colab": {}
      },
      "cell_type": "code",
      "source": [
        "# Se obtiene la información de Github Raul Reyero : \n",
        "#https://github.com/raul27868/03MAIR---Algoritmos-de-Optimizacion---2019/blob/master/AG2/Raul_ReyeroAG2.ipynb\n",
        "\n",
        "#Fuerza Bruta\n",
        "\n",
        "def distancia_fuerza_bruta(L):\n",
        "  mejor_distancia = 100000e10\n",
        "  \n",
        "  A,B = (),()\n",
        "  \n",
        "  for i in range(len(L)):\n",
        "    for j in range(i+1, len(L)):\n",
        "      D = distancia(L[i],L[j])\n",
        "      if D < mejor_distancia:\n",
        "                A,B=L[i],L[j]\n",
        "                mejor_distancia = D\n",
        "  return [A,B] \n",
        "\n",
        " \n",
        "def distancia_divide_y_venceras(L):\n",
        "  #Si hay pocos por Fuerza Bruta\n",
        "  if len(L) <10: \n",
        "    return  distancia_fuerza_bruta(L)\n",
        "  \n",
        "  \n",
        "  #Dividir en listas grandes\n",
        "  #pivite =  sum([L[i][0]for i in range(len(L))]) / len(L)\n",
        "  \n",
        "  \n",
        "  LISTA_IZQ = sorted(L, key=lambda x: x[0])[:len(L)//2]\n",
        "  LISTA_DER = sorted(L, key=lambda x: x[0])[len(L)//2:]\n",
        "  \n",
        "  PUNTOS_LISTA_IZQ = distancia_divide_y_venceras(LISTA_IZQ)\n",
        "  PUNTOS_LISTA_DER = distancia_divide_y_venceras(LISTA_DER)\n",
        "  \n",
        "  return distancia_fuerza_bruta(PUNTOS_LISTA_IZQ + PUNTOS_LISTA_DER)\n",
        "  \n"
      ],
      "execution_count": 0,
      "outputs": []
    },
    {
      "metadata": {
        "id": "OzBqtOX4mIxb",
        "colab_type": "code",
        "outputId": "a929e9ff-638a-40b4-aac9-4cd1e0b18566",
        "colab": {
          "base_uri": "https://localhost:8080/",
          "height": 72
        }
      },
      "cell_type": "code",
      "source": [
        "@calcular_tiempo  \n",
        "def LANZA(L):\n",
        "  return distancia_divide_y_venceras(L)\n",
        "  \n",
        "SOL = LANZA(lista_2D[:1000])\n",
        "\n",
        "print(SOL)"
      ],
      "execution_count": 0,
      "outputs": [
        {
          "output_type": "stream",
          "text": [
            "\r\n",
            " Tiempo de ejecución para algoritmo: 0.0160303115844726562500000\n",
            "[(9650, 284), (9651, 275)]\n"
          ],
          "name": "stdout"
        }
      ]
    },
    {
      "metadata": {
        "id": "88434HlTmVnm",
        "colab_type": "code",
        "colab": {}
      },
      "cell_type": "code",
      "source": [
        "# se proprone un nuevo enfoque"
      ],
      "execution_count": 0,
      "outputs": []
    },
    {
      "metadata": {
        "id": "jnFG3ArIfcsG",
        "colab_type": "code",
        "outputId": "488cc25f-2630-410b-a7ab-6bf2263300cb",
        "colab": {
          "base_uri": "https://localhost:8080/",
          "height": 135
        }
      },
      "cell_type": "code",
      "source": [
        "def distance(u,v):\n",
        "    dx = u[0] - v[0]\n",
        "    dy = u[1] - v[1]\n",
        "    return dx*dx + dy*dy\n",
        "\n",
        "# O(n lg n)\n",
        "def dividir_vencer_2D(t):\n",
        "  #verifico que se tenga al menos dos valores\n",
        "  if t == 1:\n",
        "    print(\"Se tiene un solo valor, por ello su distancia es 0\")\n",
        "    return \n",
        "  \n",
        "  # Defino los valores iniciales\n",
        "  if t == 2:\n",
        "    mi = distancia_2d(t[0], t[1])\n",
        "    tupla1 = t[0]\n",
        "    tupla2 = t[1]\n",
        "    print(\"Solo hay dos tuplas, la \" + str(tupla1) +\" y \"+str(tupla2)+\" con una  distancia de: \" + str(mi))\n",
        "    return tupla1, tupla2, mi\n",
        "  \n",
        "    x_final = 0\n",
        "    y_final = 0\n",
        "    distancia = 0\n",
        "    def sort_i_x_2D(t):\n",
        "        return [i for (i,u) in sorted(enumerate(t), key = lambda p: p[1][0])]\n",
        "\n",
        "    def sort_i_y_2D(t):\n",
        "        return [i for (i,u) in sorted(enumerate(t), key = lambda p: p[1][1])]\n",
        "\n",
        "    i_x = sort_i_x_2D(t)\n",
        "    i_y = sort_i_y_2D(t)\n",
        "\n",
        "\n",
        "    def search(i,j):        \n",
        "        if i >= j:\n",
        "            return None\n",
        "        elif i + 1 == j:\n",
        "            return (i_x[i], i_x[j])\n",
        "        else: \n",
        "            k = (i + j) // 2\n",
        "            left = search(i, k)\n",
        "            right = search(k+1, j)\n",
        "\n",
        "            if left is None:\n",
        "                (i_min, j_min) = right\n",
        "            elif right is None:\n",
        "                (i_min, j_min) = left\n",
        "            else:\n",
        "                (i_left, j_left) = left\n",
        "                (i_right, j_right) = right\n",
        "                d_left = distance(t[i_left], t[j_left])\n",
        "                d_right = distance(t[i_right], t[j_right])\n",
        "                if d_left < d_right:\n",
        "                    (i_min, j_min) = (i_left, j_left)\n",
        "                else:\n",
        "                    (i_min, j_min) = (i_right, j_right)\n",
        "\n",
        "            d = distance(t[i_min], t[j_min])\n",
        "\n",
        "            x = (t[i_x[k]][0] + t[i_x[k + 1]][0]) / 2\n",
        "\n",
        "            area = [j for j in i_y if abs(t[j][0] - x) <= d]\n",
        "\n",
        "            for p in range(len(area)):\n",
        "                r = p + 1\n",
        "                while r < len(area) and (t[i_y[r]][1] - t[i_y[p]][1]) < d and r - p <= 6:\n",
        "                    e = distance(t[i_y[p]], t[i_y[r]])\n",
        "                    if e < d:\n",
        "                        d = e\n",
        "                        i_min = p\n",
        "                        j_min = r\n",
        "                        distancia=d\n",
        "                        x_final=i_min\n",
        "                        y_final=j_min\n",
        "                    r = r + 1                  \n",
        "            return (i_min, j_min)\n",
        "    \n",
        "    return search(0, len(t) - 1)\n",
        "    print(str(x_final) + \"resultado \" + str(y_final))\n",
        "\n",
        "\n",
        "# Function closest_pair_2D([]) returns: None."
      ],
      "execution_count": 0,
      "outputs": [
        {
          "output_type": "error",
          "ename": "SyntaxError",
          "evalue": "ignored",
          "traceback": [
            "\u001b[0;36m  File \u001b[0;32m\"<ipython-input-122-e7a1a39f269e>\"\u001b[0;36m, line \u001b[0;32m82\u001b[0m\n\u001b[0;31m    Function closest_pair_2D([]) returns: None.\u001b[0m\n\u001b[0m                           ^\u001b[0m\n\u001b[0;31mSyntaxError\u001b[0m\u001b[0;31m:\u001b[0m invalid syntax\n"
          ]
        }
      ]
    },
    {
      "metadata": {
        "id": "kjcNRAy5imr9",
        "colab_type": "code",
        "outputId": "d25aedfe-eceb-4a31-ca5c-730a0abf6930",
        "colab": {
          "base_uri": "https://localhost:8080/",
          "height": 262
        }
      },
      "cell_type": "code",
      "source": [
        "\n",
        "# prueba del algoritmo de dividir y conquistar \n",
        "fuerza_bruta_2D(random.sample(lista_2D,1))\n",
        "# prueba del algoritmo de de dividir y conquistar \n",
        "fuerza_bruta_2D(random.sample(lista_2D,2))\n",
        "# prueba del algoritmo con todos los elementos \n",
        "resultado = closest_pair_2D(lista_2D)\n",
        "print(\"Los valores minimos son \" + str(resultado[0]) +\" y \"+str(resultado[1]))"
      ],
      "execution_count": 0,
      "outputs": [
        {
          "output_type": "stream",
          "text": [
            "Se tiene un solo valor, por ello su distancia es 0\n",
            "Solo hay dos tuplas, la (1584, 1279) y (6621, 4907) con una  distancia de: 6207.55612137337\n"
          ],
          "name": "stdout"
        },
        {
          "output_type": "error",
          "ename": "NameError",
          "evalue": "ignored",
          "traceback": [
            "\u001b[0;31m---------------------------------------------------------------------------\u001b[0m",
            "\u001b[0;31mNameError\u001b[0m                                 Traceback (most recent call last)",
            "\u001b[0;32m<ipython-input-121-b952f3f4b9f4>\u001b[0m in \u001b[0;36m<module>\u001b[0;34m()\u001b[0m\n\u001b[1;32m      3\u001b[0m \u001b[0mfuerza_bruta_2D\u001b[0m\u001b[0;34m(\u001b[0m\u001b[0mrandom\u001b[0m\u001b[0;34m.\u001b[0m\u001b[0msample\u001b[0m\u001b[0;34m(\u001b[0m\u001b[0mlista_2D\u001b[0m\u001b[0;34m,\u001b[0m\u001b[0;36m2\u001b[0m\u001b[0;34m)\u001b[0m\u001b[0;34m)\u001b[0m\u001b[0;34m\u001b[0m\u001b[0;34m\u001b[0m\u001b[0m\n\u001b[1;32m      4\u001b[0m \u001b[0;31m# prueba del algoritmo con todos los elementos\u001b[0m\u001b[0;34m\u001b[0m\u001b[0;34m\u001b[0m\u001b[0;34m\u001b[0m\u001b[0m\n\u001b[0;32m----> 5\u001b[0;31m \u001b[0mresultado\u001b[0m \u001b[0;34m=\u001b[0m \u001b[0mclosest_pair_2D\u001b[0m\u001b[0;34m(\u001b[0m\u001b[0mlista_2D\u001b[0m\u001b[0;34m)\u001b[0m\u001b[0;34m\u001b[0m\u001b[0;34m\u001b[0m\u001b[0m\n\u001b[0m\u001b[1;32m      6\u001b[0m \u001b[0mprint\u001b[0m\u001b[0;34m(\u001b[0m\u001b[0;34m\"Los valores minimos son \"\u001b[0m \u001b[0;34m+\u001b[0m \u001b[0mstr\u001b[0m\u001b[0;34m(\u001b[0m\u001b[0mresultado\u001b[0m\u001b[0;34m[\u001b[0m\u001b[0;36m0\u001b[0m\u001b[0;34m]\u001b[0m\u001b[0;34m)\u001b[0m \u001b[0;34m+\u001b[0m\u001b[0;34m\" y \"\u001b[0m\u001b[0;34m+\u001b[0m\u001b[0mstr\u001b[0m\u001b[0;34m(\u001b[0m\u001b[0mresultado\u001b[0m\u001b[0;34m[\u001b[0m\u001b[0;36m1\u001b[0m\u001b[0;34m]\u001b[0m\u001b[0;34m)\u001b[0m\u001b[0;34m)\u001b[0m\u001b[0;34m\u001b[0m\u001b[0;34m\u001b[0m\u001b[0m\n",
            "\u001b[0;31mNameError\u001b[0m: name 'closest_pair_2D' is not defined"
          ]
        }
      ]
    },
    {
      "metadata": {
        "id": "pq2HBNf4nVdf",
        "colab_type": "text"
      },
      "cell_type": "markdown",
      "source": [
        "#3. Análisis de algoritmos en ND"
      ]
    },
    {
      "metadata": {
        "id": "uz3INUHwncTt",
        "colab_type": "code",
        "outputId": "9a2b53b7-6e9b-4ac7-9a17-baef300e1d60",
        "colab": {
          "base_uri": "https://localhost:8080/",
          "height": 126
        }
      },
      "cell_type": "code",
      "source": [
        "from scipy.spatial.distance import cdist\n",
        "\n",
        "your_data = np.asarray(lista_3D)\n",
        "d = cdist(your_data, your_data)\n",
        "number_samples = your_data.shape[0]\n",
        "# Select d(a_i,a_j), i != j without repetitions\n",
        "il1 = np.tril_indices(number_samples, k=-1) \n",
        "dist = d[il1]\n",
        "print(dist)\n",
        "arg_min = dist.argmin()\n",
        "print(arg_min)\n",
        "min = dist.min()\n",
        "print(min)\n",
        "arg_max = dist.argmax()\n",
        "print(arg_max)\n",
        "max = dist.max()\n",
        "print(max)"
      ],
      "execution_count": 0,
      "outputs": [
        {
          "output_type": "stream",
          "text": [
            "[7511.79199659 5938.59823527 1629.89999693 ... 8948.39415761 2091.40479104\n",
            " 7961.1896724 ]\n",
            "327981\n",
            "153.7400403278209\n",
            "370828\n",
            "15804.699206248753\n"
          ],
          "name": "stdout"
        }
      ]
    }
  ]
}