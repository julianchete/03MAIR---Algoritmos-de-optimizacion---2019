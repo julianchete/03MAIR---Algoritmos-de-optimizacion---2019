{
  "nbformat": 4,
  "nbformat_minor": 0,
  "metadata": {
    "colab": {
      "name": "AG1-Julian_Grijalba.ipynb",
      "version": "0.3.2",
      "provenance": [],
      "include_colab_link": true
    },
    "kernelspec": {
      "name": "python3",
      "display_name": "Python 3"
    }
  },
  "cells": [
    {
      "cell_type": "markdown",
      "metadata": {
        "id": "view-in-github",
        "colab_type": "text"
      },
      "source": [
        "<a href=\"https://colab.research.google.com/github/julianchete/03MAIR---Algoritmos-de-optimizacion---2019/blob/master/AG1/AG1_Julian_Grijalba.ipynb\" target=\"_parent\"><img src=\"https://colab.research.google.com/assets/colab-badge.svg\" alt=\"Open In Colab\"/></a>"
      ]
    },
    {
      "metadata": {
        "id": "WbooDK5FDAwK",
        "colab_type": "code",
        "colab": {}
      },
      "cell_type": "code",
      "source": [
        ""
      ],
      "execution_count": 0,
      "outputs": []
    },
    {
      "metadata": {
        "id": "qyFNx8CLDVnv",
        "colab_type": "text"
      },
      "cell_type": "markdown",
      "source": [
        "AG -  Actividad Guiada 1 <br>\n",
        "Julian Grijalba Facundo <br>\n",
        "\n",
        "**URL:** https://github.com/julianchete/03MAIR---Algoritmos-de-optimizacion---2019/tree/master/AG1\n"
      ]
    },
    {
      "metadata": {
        "id": "Y2RdwxQCErOO",
        "colab_type": "code",
        "colab": {}
      },
      "cell_type": "code",
      "source": [
        "from statistics import *\n",
        "\n",
        "# Definición lista de datos \n",
        "valores = [9187, 244, 4054, 9222, 8373, 4993, 5265, 5470, 4519, 7182, 2035, 3506, 4337, 7580, 2554, 2824, 8357, 4447, 7379]"
      ],
      "execution_count": 0,
      "outputs": []
    },
    {
      "metadata": {
        "id": "xK9T1pFYP9Fc",
        "colab_type": "code",
        "colab": {}
      },
      "cell_type": "code",
      "source": [
        "# Quick Sort - Definición de la función de ordenamiento\n",
        "\n",
        "def quick_sort(valores):\n",
        "# Caso 1 :  Si solo tiene un valor , se retorna el valor ya que no requiere ordenamiento 0(1)\n",
        "  if (len(valores) == 1) :\n",
        "    return valores\n",
        "# Caso 2 :  Si tiene dos valores, se retorna una lista con el minimo y maximo \n",
        "  if (len(valores) == 2) : \n",
        "    return [min(valores),max(valores)]\n",
        "# Caso 3 :  Ejecución del algoritmo \n",
        "# 3.1 : Se define el pivote . Esto tiene un costo constante para evitar un afectación en la complejidad o(n)\n",
        "\n",
        "  pivote = (valores[0]+valores[1]+valores[2])/3 \n",
        "\n",
        "# 3.2 : Dividir y conquistar la lista . Procedemos a separar en dos partes la lista \n",
        "# Se definen las listas sobre las cuales se iterará\n",
        "\n",
        "  IZQ=[]\n",
        "  DER=[]\n",
        "\n",
        "# Se realiza el ciclo \n",
        "\n",
        "  for i in valores:\n",
        "      if(i<=pivote):\n",
        "        IZQ.append(i)\n",
        "      else:\n",
        "        DER.append(i)\n",
        "# Envio de forma recursiva el algoritmo\n",
        "  return quick_sort(IZQ) + quick_sort(DER)"
      ],
      "execution_count": 0,
      "outputs": []
    },
    {
      "metadata": {
        "id": "D_6kHfpXP4IH",
        "colab_type": "code",
        "colab": {
          "base_uri": "https://localhost:8080/",
          "height": 340
        },
        "outputId": "4f2556f4-a2ef-4c9a-86b3-91567f83d9ee"
      },
      "cell_type": "code",
      "source": [
        "# Se ejecuta el algoritmo con base e nlos valores de la lista\n",
        "quick_sort(valores)"
      ],
      "execution_count": 51,
      "outputs": [
        {
          "output_type": "execute_result",
          "data": {
            "text/plain": [
              "[244,\n",
              " 2035,\n",
              " 2554,\n",
              " 2824,\n",
              " 3506,\n",
              " 4054,\n",
              " 4337,\n",
              " 4447,\n",
              " 4519,\n",
              " 4993,\n",
              " 5265,\n",
              " 5470,\n",
              " 7182,\n",
              " 7379,\n",
              " 7580,\n",
              " 8357,\n",
              " 8373,\n",
              " 9187,\n",
              " 9222]"
            ]
          },
          "metadata": {
            "tags": []
          },
          "execution_count": 51
        }
      ]
    },
    {
      "metadata": {
        "id": "9ypirPdURj7u",
        "colab_type": "code",
        "colab": {}
      },
      "cell_type": "code",
      "source": [
        "## Se integra código que permite evaluar el tiempo de ejecución con base a medida experimental y no teorica. \n",
        "\n",
        "#Decorador para calcular_tiempo a la función para la cual queremos calcular el tiempo de ejecución(Isabel Vázquez)\n",
        "from time import time\n",
        "#Función para calcular el tiempo de ejecución\n",
        "def calcular_tiempo(f):\n",
        "   \n",
        "    def wrapper(*args, **kwargs):        \n",
        "        inicio = time()       \n",
        "        resultado = f(*args, **kwargs)       \n",
        "        tiempo = time() - inicio\n",
        "        print(\"Tiempo de ejecución para algoritmo: \"+str(tiempo))\n",
        "        return resultado\n",
        "    \n",
        "    return wrapper"
      ],
      "execution_count": 0,
      "outputs": []
    },
    {
      "metadata": {
        "id": "wliZSIj_SlZi",
        "colab_type": "code",
        "colab": {
          "base_uri": "https://localhost:8080/",
          "height": 51
        },
        "outputId": "b6bb3880-2e8e-4566-b3d3-3dd6e3d2cabe"
      },
      "cell_type": "code",
      "source": [
        "## ahora utilizamos el decorador con una nueva función que me permita identificar el tiempo \n",
        "@calcular_tiempo\n",
        "def tiempo_ejecucion(valores):\n",
        "  return quick_sort(valores)\n",
        "# Se imprime como resultado la ejecución\n",
        "print(tiempo_ejecucion(valores))"
      ],
      "execution_count": 66,
      "outputs": [
        {
          "output_type": "stream",
          "text": [
            "Tiempo de ejecución para algoritmo: 3.9577484130859375e-05\n",
            "[244, 2035, 2554, 2824, 3506, 4054, 4337, 4447, 4519, 4993, 5265, 5470, 7182, 7379, 7580, 8357, 8373, 9187, 9222]\n"
          ],
          "name": "stdout"
        }
      ]
    },
    {
      "metadata": {
        "id": "kb5R3JFoUI3J",
        "colab_type": "code",
        "colab": {}
      },
      "cell_type": "code",
      "source": [
        "# se activa el tracking de tiempo\n",
        "@calcular_tiempo\n",
        "# ahora para ver los tiempos de la recursión se generará quick_sort2 \n",
        "def quick_sort2(valores):\n",
        "  if (len(valores) == 1) :\n",
        "    return valores\n",
        "  if (len(valores) == 2) : \n",
        "    return [min(valores),max(valores)]\n",
        "  pivote = (valores[0]+valores[1]+valores[2])/3 \n",
        "  IZQ=[]\n",
        "  DER=[]\n",
        "  for i in valores:\n",
        "      if(i<=pivote):\n",
        "        IZQ.append(i)\n",
        "      else:\n",
        "        DER.append(i)\n",
        "  return quick_sort2(IZQ) + quick_sort2(DER)"
      ],
      "execution_count": 0,
      "outputs": []
    },
    {
      "metadata": {
        "id": "nRqRAg1UYdnr",
        "colab_type": "code",
        "colab": {}
      },
      "cell_type": "code",
      "source": [
        "\n",
        "\n",
        "# Ahora definimos la función de cambios de moneda\n",
        "@calcular_tiempo\n",
        "def cambio_monedas(cantidad_cambio,SISTEMA):\n",
        "  SOLUCION = [0 for i in range(len(SISTEMA))]\n",
        "  \n",
        "\n",
        "  VALOR_ACUMULADO = 0 \n",
        "  # se realiza el ciclo para encontrar las cantidades de moneda necesarias\n",
        "  for i in range(len(SISTEMA)):\n",
        "    # Identifico el factor de converesión entero\n",
        "    num_monedas = int((cantidad_cambio-VALOR_ACUMULADO)/(SISTEMA[i]))\n",
        "    # Asigno la cantidad de monedas en el sistema\n",
        "    SOLUCION[i]=num_monedas\n",
        "    # Actualizo el valor delta de valor_acumulado\n",
        "    VALOR_ACUMULADO=(SOLUCION[i]*num_monedas)+VALOR_ACUMULADO\n",
        "    if(VALOR_ACUMULADO==cantidad_cambio):\n",
        "      print(SOLUCION)  \n",
        "      return SOLUCION\n",
        " "
      ],
      "execution_count": 0,
      "outputs": []
    },
    {
      "metadata": {
        "id": "UyqPSUV16zAX",
        "colab_type": "code",
        "colab": {}
      },
      "cell_type": "code",
      "source": [
        "N=4\n",
        "solucion = [0 for i in range(N)]\n",
        "etapa=0\n",
        "\n",
        "def es_prometedora(solucion, etapa):\n",
        "  \n",
        "  for i in range(etapa+1):\n",
        "    if solucion.count(solucion[i])>1:\n",
        "       \n",
        "       for j in range(i+1,etapa+1):\n",
        "        if abs(i-j)== abs(solucion[i]-solucion[j]) : return False\n",
        "       return True\n",
        "\n",
        "def escribe(S):\n",
        "  n=len(S)\n",
        "  for i in range(n):\n",
        "       print(\" \")\n",
        "       for i in range(n):\n",
        "          if solucion[i]==x+1:\n",
        "            print(\" X \", end=\"\")\n",
        "          else:\n",
        "            print(\" - \", end=\"\")\n",
        "\n",
        "\n",
        "## algoritmo de las reinas\n",
        "def reinas(N,soluciones, etapa):\n",
        "  \n",
        "  for i in range(1,N+1):\n",
        "    soluciones[etapa]=i\n",
        "    \n",
        "    if es_prometedora(solucion,etapa):\n",
        "      if etapa == N-1 : \n",
        "        print(\"\\n\\nLa solución es \")\n",
        "        print(solucion)\n",
        "        escribe(solucion)\n",
        "      \n",
        "      else:\n",
        "        reinas(N,soluciones, etapa+1)\n",
        "    \n",
        "    else :\n",
        "      None\n",
        "      \n",
        "    \n",
        "  solucion[etapa]=0\n",
        "  \n",
        "reinas(N,solucion,etapa)"
      ],
      "execution_count": 0,
      "outputs": []
    },
    {
      "metadata": {
        "id": "OWTUxtGxln6T",
        "colab_type": "code",
        "colab": {
          "base_uri": "https://localhost:8080/",
          "height": 34
        },
        "outputId": "d76d634d-5f4c-4d04-d91f-72bfca5ef2c5"
      },
      "cell_type": "code",
      "source": [
        "# Se define el valor del sistema\n",
        "SISTEMA = [ 25, 10, 5, 1]\n",
        "cantidad_cambio= 25\n",
        "cambio_monedas(cantidad_cambio,SISTEMA)"
      ],
      "execution_count": 140,
      "outputs": [
        {
          "output_type": "stream",
          "text": [
            "Tiempo de ejecución para algoritmo: 1.049041748046875e-05\n"
          ],
          "name": "stdout"
        }
      ]
    },
    {
      "metadata": {
        "id": "7iUbO486hubj",
        "colab_type": "code",
        "colab": {}
      },
      "cell_type": "code",
      "source": [
        "\n",
        "#print(SOLUCION)"
      ],
      "execution_count": 0,
      "outputs": []
    },
    {
      "metadata": {
        "id": "FtROIDuSN3rO",
        "colab_type": "code",
        "colab": {
          "base_uri": "https://localhost:8080/",
          "height": 697
        },
        "outputId": "b19684e2-5f78-4a40-c51e-1408361c7183"
      },
      "cell_type": "code",
      "source": [
        "# Se ejecuta la nueva función donde detalle los tiempos de cada recursión ejecutada\n",
        "quick_sort2(valores)"
      ],
      "execution_count": 65,
      "outputs": [
        {
          "output_type": "stream",
          "text": [
            "Tiempo de ejecución para algoritmo: 2.1457672119140625e-06\n",
            "Tiempo de ejecución para algoritmo: 4.291534423828125e-06\n",
            "Tiempo de ejecución para algoritmo: 4.76837158203125e-07\n",
            "Tiempo de ejecución para algoritmo: 8.273124694824219e-05\n",
            "Tiempo de ejecución para algoritmo: 7.152557373046875e-07\n",
            "Tiempo de ejecución para algoritmo: 4.291534423828125e-06\n",
            "Tiempo de ejecución para algoritmo: 0.0003135204315185547\n",
            "Tiempo de ejecución para algoritmo: 0.0009169578552246094\n",
            "Tiempo de ejecución para algoritmo: 0.0022029876708984375\n",
            "Tiempo de ejecución para algoritmo: 2.1457672119140625e-06\n",
            "Tiempo de ejecución para algoritmo: 1.430511474609375e-06\n",
            "Tiempo de ejecución para algoritmo: 0.0002760887145996094\n",
            "Tiempo de ejecución para algoritmo: 2.1457672119140625e-06\n",
            "Tiempo de ejecución para algoritmo: 4.76837158203125e-07\n",
            "Tiempo de ejecución para algoritmo: 0.0003960132598876953\n",
            "Tiempo de ejecución para algoritmo: 3.337860107421875e-06\n",
            "Tiempo de ejecución para algoritmo: 0.0005962848663330078\n",
            "Tiempo de ejecución para algoritmo: 0.0010807514190673828\n",
            "Tiempo de ejecución para algoritmo: 3.337860107421875e-06\n",
            "Tiempo de ejecución para algoritmo: 0.0016756057739257812\n",
            "Tiempo de ejecución para algoritmo: 0.004333019256591797\n"
          ],
          "name": "stdout"
        },
        {
          "output_type": "execute_result",
          "data": {
            "text/plain": [
              "[244,\n",
              " 2035,\n",
              " 2554,\n",
              " 2824,\n",
              " 3506,\n",
              " 4054,\n",
              " 4337,\n",
              " 4447,\n",
              " 4519,\n",
              " 4993,\n",
              " 5265,\n",
              " 5470,\n",
              " 7182,\n",
              " 7379,\n",
              " 7580,\n",
              " 8357,\n",
              " 8373,\n",
              " 9187,\n",
              " 9222]"
            ]
          },
          "metadata": {
            "tags": []
          },
          "execution_count": 65
        }
      ]
    }
  ]
}