{
  "nbformat": 4,
  "nbformat_minor": 0,
  "metadata": {
    "colab": {
      "name": "AG1-Julian_Grijalba.ipynb",
      "version": "0.3.2",
      "provenance": [],
      "include_colab_link": true
    },
    "kernelspec": {
      "name": "python3",
      "display_name": "Python 3"
    }
  },
  "cells": [
    {
      "cell_type": "markdown",
      "metadata": {
        "id": "view-in-github",
        "colab_type": "text"
      },
      "source": [
        "<a href=\"https://colab.research.google.com/github/julianchete/03MAIR---Algoritmos-de-optimizacion---2019/blob/master/AG1/AG1_Julian_Grijalba.ipynb\" target=\"_parent\"><img src=\"https://colab.research.google.com/assets/colab-badge.svg\" alt=\"Open In Colab\"/></a>"
      ]
    },
    {
      "metadata": {
        "id": "WbooDK5FDAwK",
        "colab_type": "code",
        "colab": {}
      },
      "cell_type": "code",
      "source": [
        ""
      ],
      "execution_count": 0,
      "outputs": []
    },
    {
      "metadata": {
        "id": "qyFNx8CLDVnv",
        "colab_type": "text"
      },
      "cell_type": "markdown",
      "source": [
        "AG -  Actividad Guiada 1 <br>\n",
        "Julian Grijalba Facundo <br>\n",
        "\n",
        "**URL:** https://github.com/julianchete/03MAIR---Algoritmos-de-optimizacion---2019/tree/master/AG1\n"
      ]
    },
    {
      "metadata": {
        "id": "Y2RdwxQCErOO",
        "colab_type": "code",
        "colab": {}
      },
      "cell_type": "code",
      "source": [
        "from statistics import *\n",
        "\n",
        "# Definición lista de datos \n",
        "valores = [9187, 244, 4054, 9222, 8373, 4993, 5265, 5470, 4519, 7182, 2035, 3506, 4337, 7580, 2554, 2824, 8357, 4447, 7379]"
      ],
      "execution_count": 0,
      "outputs": []
    },
    {
      "metadata": {
        "id": "xK9T1pFYP9Fc",
        "colab_type": "code",
        "colab": {}
      },
      "cell_type": "code",
      "source": [
        "# Quick Sort - Definición de la función de ordenamiento\n",
        "\n",
        "def quick_sort(valores):\n",
        "# Caso 1 :  Si solo tiene un valor , se retorna el valor ya que no requiere ordenamiento 0(1)\n",
        "  if (len(valores) == 1) :\n",
        "    return valores\n",
        "# Caso 2 :  Si tiene dos valores, se retorna una lista con el minimo y maximo \n",
        "  if (len(valores) == 2) : \n",
        "    return [min(valores),max(valores)]\n",
        "# Caso 3 :  Ejecución del algoritmo \n",
        "# 3.1 : Se define el pivote . Esto tiene un costo constante para evitar un afectación en la complejidad o(n)\n",
        "\n",
        "  pivote = (valores[0]+valores[1]+valores[2])/3 \n",
        "\n",
        "# 3.2 : Dividir y conquistar la lista . Procedemos a separar en dos partes la lista \n",
        "# Se definen las listas sobre las cuales se iterará\n",
        "\n",
        "  IZQ=[]\n",
        "  DER=[]\n",
        "\n",
        "# Se realiza el ciclo \n",
        "\n",
        "  for i in valores:\n",
        "      if(i<=pivote):\n",
        "        IZQ.append(i)\n",
        "      else:\n",
        "        DER.append(i)\n",
        "# Envio de forma recursiva el algoritmo\n",
        "  return quick_sort(IZQ) + quick_sort(DER)"
      ],
      "execution_count": 0,
      "outputs": []
    },
    {
      "metadata": {
        "id": "D_6kHfpXP4IH",
        "colab_type": "code",
        "colab": {
          "base_uri": "https://localhost:8080/",
          "height": 340
        },
        "outputId": "4f2556f4-a2ef-4c9a-86b3-91567f83d9ee"
      },
      "cell_type": "code",
      "source": [
        "# Se ejecuta el algoritmo con base e nlos valores de la lista\n",
        "quick_sort(valores)"
      ],
      "execution_count": 51,
      "outputs": [
        {
          "output_type": "execute_result",
          "data": {
            "text/plain": [
              "[244,\n",
              " 2035,\n",
              " 2554,\n",
              " 2824,\n",
              " 3506,\n",
              " 4054,\n",
              " 4337,\n",
              " 4447,\n",
              " 4519,\n",
              " 4993,\n",
              " 5265,\n",
              " 5470,\n",
              " 7182,\n",
              " 7379,\n",
              " 7580,\n",
              " 8357,\n",
              " 8373,\n",
              " 9187,\n",
              " 9222]"
            ]
          },
          "metadata": {
            "tags": []
          },
          "execution_count": 51
        }
      ]
    },
    {
      "metadata": {
        "id": "9ypirPdURj7u",
        "colab_type": "code",
        "colab": {}
      },
      "cell_type": "code",
      "source": [
        "## Se integra código que permite evaluar el tiempo de ejecución con base a medida experimental y no teorica. \n",
        "\n",
        "#Decorador para calcular_tiempo a la función para la cual queremos calcular el tiempo de ejecución(Isabel Vázquez)\n",
        "from time import time\n",
        "#Función para calcular el tiempo de ejecución\n",
        "def calcular_tiempo(f):\n",
        "   \n",
        "    def wrapper(*args, **kwargs):        \n",
        "        inicio = time()       \n",
        "        resultado = f(*args, **kwargs)       \n",
        "        tiempo = time() - inicio\n",
        "        print(\"Tiempo de ejecución para algoritmo: \"+str(tiempo))\n",
        "        return resultado\n",
        "    \n",
        "    return wrapper"
      ],
      "execution_count": 0,
      "outputs": []
    },
    {
      "metadata": {
        "id": "wliZSIj_SlZi",
        "colab_type": "code",
        "colab": {
          "base_uri": "https://localhost:8080/",
          "height": 51
        },
        "outputId": "2f774197-8a79-4421-b8d3-512d76831d2b"
      },
      "cell_type": "code",
      "source": [
        "## ahora utilizamos el decorador con una nueva función que me permita identificar el tiempo \n",
        "@calcular_tiempo\n",
        "def tiempo_ejecucion(valores):\n",
        "  return quick_sort(valores)\n",
        "# Se imprime como resultado la ejecución\n",
        "print(tiempo_ejecucion(valores))"
      ],
      "execution_count": 60,
      "outputs": [
        {
          "output_type": "stream",
          "text": [
            "Tiempo de ejecución para algoritmo: 4.1484832763671875e-05\n",
            "[244, 2035, 2554, 2824, 3506, 4054, 4337, 4447, 4519, 4993, 5265, 5470, 7182, 7379, 7580, 8357, 8373, 9187, 9222]\n"
          ],
          "name": "stdout"
        }
      ]
    },
    {
      "metadata": {
        "id": "FtROIDuSN3rO",
        "colab_type": "code",
        "colab": {}
      },
      "cell_type": "code",
      "source": [
        "# Se ejecuta la función definida\n"
      ],
      "execution_count": 0,
      "outputs": []
    }
  ]
}